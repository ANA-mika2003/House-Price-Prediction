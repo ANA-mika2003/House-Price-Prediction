{
 "cells": [
  {
   "cell_type": "code",
   "execution_count": 45,
   "id": "22faef40",
   "metadata": {
    "scrolled": true
   },
   "outputs": [
    {
     "name": "stdout",
     "output_type": "stream",
     "text": [
      "Requirement already satisfied: opendatasets in c:\\users\\mukul\\anaconda3\\lib\\site-packages (0.1.22)\n",
      "Requirement already satisfied: tqdm in c:\\users\\mukul\\anaconda3\\lib\\site-packages (from opendatasets) (4.65.0)\n",
      "Requirement already satisfied: kaggle in c:\\users\\mukul\\anaconda3\\lib\\site-packages (from opendatasets) (1.5.16)\n",
      "Requirement already satisfied: click in c:\\users\\mukul\\anaconda3\\lib\\site-packages (from opendatasets) (8.0.4)\n",
      "Requirement already satisfied: colorama in c:\\users\\mukul\\anaconda3\\lib\\site-packages (from click->opendatasets) (0.4.6)\n",
      "Requirement already satisfied: six>=1.10 in c:\\users\\mukul\\anaconda3\\lib\\site-packages (from kaggle->opendatasets) (1.16.0)\n",
      "Requirement already satisfied: certifi in c:\\users\\mukul\\anaconda3\\lib\\site-packages (from kaggle->opendatasets) (2023.7.22)\n",
      "Requirement already satisfied: python-dateutil in c:\\users\\mukul\\anaconda3\\lib\\site-packages (from kaggle->opendatasets) (2.8.2)\n",
      "Requirement already satisfied: requests in c:\\users\\mukul\\anaconda3\\lib\\site-packages (from kaggle->opendatasets) (2.31.0)\n",
      "Requirement already satisfied: python-slugify in c:\\users\\mukul\\anaconda3\\lib\\site-packages (from kaggle->opendatasets) (5.0.2)\n",
      "Requirement already satisfied: urllib3 in c:\\users\\mukul\\anaconda3\\lib\\site-packages (from kaggle->opendatasets) (1.26.16)\n",
      "Requirement already satisfied: bleach in c:\\users\\mukul\\anaconda3\\lib\\site-packages (from kaggle->opendatasets) (4.1.0)\n",
      "Requirement already satisfied: packaging in c:\\users\\mukul\\anaconda3\\lib\\site-packages (from bleach->kaggle->opendatasets) (23.1)\n",
      "Requirement already satisfied: webencodings in c:\\users\\mukul\\anaconda3\\lib\\site-packages (from bleach->kaggle->opendatasets) (0.5.1)\n",
      "Requirement already satisfied: text-unidecode>=1.3 in c:\\users\\mukul\\anaconda3\\lib\\site-packages (from python-slugify->kaggle->opendatasets) (1.3)\n",
      "Requirement already satisfied: charset-normalizer<4,>=2 in c:\\users\\mukul\\anaconda3\\lib\\site-packages (from requests->kaggle->opendatasets) (2.0.4)\n",
      "Requirement already satisfied: idna<4,>=2.5 in c:\\users\\mukul\\anaconda3\\lib\\site-packages (from requests->kaggle->opendatasets) (3.4)\n"
     ]
    }
   ],
   "source": [
    "#Downloading the dataset directly from kaggle using opendatasets.\n",
    "!pip install opendatasets"
   ]
  },
  {
   "cell_type": "code",
   "execution_count": 46,
   "id": "b6a6dee9",
   "metadata": {},
   "outputs": [],
   "source": [
    "import opendatasets as od"
   ]
  },
  {
   "cell_type": "code",
   "execution_count": 47,
   "id": "c9d15727",
   "metadata": {},
   "outputs": [
    {
     "name": "stdout",
     "output_type": "stream",
     "text": [
      "Skipping, found downloaded files in \".\\house-price-prediction-seattle\" (use force=True to force download)\n"
     ]
    }
   ],
   "source": [
    "od.download(\"https://www.kaggle.com/datasets/samuelcortinhas/house-price-prediction-seattle\")"
   ]
  },
  {
   "cell_type": "code",
   "execution_count": 48,
   "id": "4b1d9ac5",
   "metadata": {},
   "outputs": [
    {
     "data": {
      "text/plain": [
       "['.ipynb_checkpoints']"
      ]
     },
     "execution_count": 48,
     "metadata": {},
     "output_type": "execute_result"
    }
   ],
   "source": [
    "import os\n",
    "data_dir= '.\\house-price-prediction-seattle'\n",
    "os.listdir(data_dir)"
   ]
  },
  {
   "cell_type": "code",
   "execution_count": 49,
   "id": "b9385d9d",
   "metadata": {},
   "outputs": [
    {
     "data": {
      "text/html": [
       "<div>\n",
       "<style scoped>\n",
       "    .dataframe tbody tr th:only-of-type {\n",
       "        vertical-align: middle;\n",
       "    }\n",
       "\n",
       "    .dataframe tbody tr th {\n",
       "        vertical-align: top;\n",
       "    }\n",
       "\n",
       "    .dataframe thead th {\n",
       "        text-align: right;\n",
       "    }\n",
       "</style>\n",
       "<table border=\"1\" class=\"dataframe\">\n",
       "  <thead>\n",
       "    <tr style=\"text-align: right;\">\n",
       "      <th></th>\n",
       "      <th>beds</th>\n",
       "      <th>baths</th>\n",
       "      <th>size</th>\n",
       "      <th>size_units</th>\n",
       "      <th>lot_size</th>\n",
       "      <th>lot_size_units</th>\n",
       "      <th>zip_code</th>\n",
       "      <th>price</th>\n",
       "    </tr>\n",
       "  </thead>\n",
       "  <tbody>\n",
       "    <tr>\n",
       "      <th>0</th>\n",
       "      <td>3</td>\n",
       "      <td>2.5</td>\n",
       "      <td>2590.0</td>\n",
       "      <td>sqft</td>\n",
       "      <td>6000.00</td>\n",
       "      <td>sqft</td>\n",
       "      <td>98144</td>\n",
       "      <td>795000.0</td>\n",
       "    </tr>\n",
       "    <tr>\n",
       "      <th>1</th>\n",
       "      <td>4</td>\n",
       "      <td>2.0</td>\n",
       "      <td>2240.0</td>\n",
       "      <td>sqft</td>\n",
       "      <td>0.31</td>\n",
       "      <td>acre</td>\n",
       "      <td>98106</td>\n",
       "      <td>915000.0</td>\n",
       "    </tr>\n",
       "    <tr>\n",
       "      <th>2</th>\n",
       "      <td>4</td>\n",
       "      <td>3.0</td>\n",
       "      <td>2040.0</td>\n",
       "      <td>sqft</td>\n",
       "      <td>3783.00</td>\n",
       "      <td>sqft</td>\n",
       "      <td>98107</td>\n",
       "      <td>950000.0</td>\n",
       "    </tr>\n",
       "    <tr>\n",
       "      <th>3</th>\n",
       "      <td>4</td>\n",
       "      <td>3.0</td>\n",
       "      <td>3800.0</td>\n",
       "      <td>sqft</td>\n",
       "      <td>5175.00</td>\n",
       "      <td>sqft</td>\n",
       "      <td>98199</td>\n",
       "      <td>1950000.0</td>\n",
       "    </tr>\n",
       "    <tr>\n",
       "      <th>4</th>\n",
       "      <td>2</td>\n",
       "      <td>2.0</td>\n",
       "      <td>1042.0</td>\n",
       "      <td>sqft</td>\n",
       "      <td>NaN</td>\n",
       "      <td>NaN</td>\n",
       "      <td>98102</td>\n",
       "      <td>950000.0</td>\n",
       "    </tr>\n",
       "  </tbody>\n",
       "</table>\n",
       "</div>"
      ],
      "text/plain": [
       "   beds  baths    size size_units  lot_size lot_size_units  zip_code  \\\n",
       "0     3    2.5  2590.0       sqft   6000.00           sqft     98144   \n",
       "1     4    2.0  2240.0       sqft      0.31           acre     98106   \n",
       "2     4    3.0  2040.0       sqft   3783.00           sqft     98107   \n",
       "3     4    3.0  3800.0       sqft   5175.00           sqft     98199   \n",
       "4     2    2.0  1042.0       sqft       NaN            NaN     98102   \n",
       "\n",
       "       price  \n",
       "0   795000.0  \n",
       "1   915000.0  \n",
       "2   950000.0  \n",
       "3  1950000.0  \n",
       "4   950000.0  "
      ]
     },
     "execution_count": 49,
     "metadata": {},
     "output_type": "execute_result"
    }
   ],
   "source": [
    "#Importing the datset\n",
    "import pandas as pd\n",
    "dataset = pd.read_csv(\"train.csv\")\n",
    "dataset.head()"
   ]
  },
  {
   "cell_type": "code",
   "execution_count": 50,
   "id": "65b9e605",
   "metadata": {},
   "outputs": [
    {
     "data": {
      "text/plain": [
       "(2016, 8)"
      ]
     },
     "execution_count": 50,
     "metadata": {},
     "output_type": "execute_result"
    }
   ],
   "source": [
    "dataset.shape"
   ]
  },
  {
   "cell_type": "code",
   "execution_count": 51,
   "id": "2627cdde",
   "metadata": {},
   "outputs": [],
   "source": [
    "dataset= dataset.drop('size_units',axis=1)"
   ]
  },
  {
   "cell_type": "code",
   "execution_count": 52,
   "id": "cd71672b",
   "metadata": {},
   "outputs": [],
   "source": [
    "dataset = dataset.drop('lot_size_units', axis=1)"
   ]
  },
  {
   "cell_type": "code",
   "execution_count": 53,
   "id": "5b316825",
   "metadata": {},
   "outputs": [
    {
     "data": {
      "text/html": [
       "<div>\n",
       "<style scoped>\n",
       "    .dataframe tbody tr th:only-of-type {\n",
       "        vertical-align: middle;\n",
       "    }\n",
       "\n",
       "    .dataframe tbody tr th {\n",
       "        vertical-align: top;\n",
       "    }\n",
       "\n",
       "    .dataframe thead th {\n",
       "        text-align: right;\n",
       "    }\n",
       "</style>\n",
       "<table border=\"1\" class=\"dataframe\">\n",
       "  <thead>\n",
       "    <tr style=\"text-align: right;\">\n",
       "      <th></th>\n",
       "      <th>beds</th>\n",
       "      <th>baths</th>\n",
       "      <th>size</th>\n",
       "      <th>lot_size</th>\n",
       "      <th>zip_code</th>\n",
       "      <th>price</th>\n",
       "    </tr>\n",
       "  </thead>\n",
       "  <tbody>\n",
       "    <tr>\n",
       "      <th>0</th>\n",
       "      <td>3</td>\n",
       "      <td>2.5</td>\n",
       "      <td>2590.0</td>\n",
       "      <td>6000.00</td>\n",
       "      <td>98144</td>\n",
       "      <td>795000.0</td>\n",
       "    </tr>\n",
       "    <tr>\n",
       "      <th>1</th>\n",
       "      <td>4</td>\n",
       "      <td>2.0</td>\n",
       "      <td>2240.0</td>\n",
       "      <td>0.31</td>\n",
       "      <td>98106</td>\n",
       "      <td>915000.0</td>\n",
       "    </tr>\n",
       "    <tr>\n",
       "      <th>2</th>\n",
       "      <td>4</td>\n",
       "      <td>3.0</td>\n",
       "      <td>2040.0</td>\n",
       "      <td>3783.00</td>\n",
       "      <td>98107</td>\n",
       "      <td>950000.0</td>\n",
       "    </tr>\n",
       "    <tr>\n",
       "      <th>3</th>\n",
       "      <td>4</td>\n",
       "      <td>3.0</td>\n",
       "      <td>3800.0</td>\n",
       "      <td>5175.00</td>\n",
       "      <td>98199</td>\n",
       "      <td>1950000.0</td>\n",
       "    </tr>\n",
       "    <tr>\n",
       "      <th>4</th>\n",
       "      <td>2</td>\n",
       "      <td>2.0</td>\n",
       "      <td>1042.0</td>\n",
       "      <td>NaN</td>\n",
       "      <td>98102</td>\n",
       "      <td>950000.0</td>\n",
       "    </tr>\n",
       "  </tbody>\n",
       "</table>\n",
       "</div>"
      ],
      "text/plain": [
       "   beds  baths    size  lot_size  zip_code      price\n",
       "0     3    2.5  2590.0   6000.00     98144   795000.0\n",
       "1     4    2.0  2240.0      0.31     98106   915000.0\n",
       "2     4    3.0  2040.0   3783.00     98107   950000.0\n",
       "3     4    3.0  3800.0   5175.00     98199  1950000.0\n",
       "4     2    2.0  1042.0       NaN     98102   950000.0"
      ]
     },
     "execution_count": 53,
     "metadata": {},
     "output_type": "execute_result"
    }
   ],
   "source": [
    "dataset.head()"
   ]
  },
  {
   "cell_type": "code",
   "execution_count": 54,
   "id": "4921b15a",
   "metadata": {},
   "outputs": [
    {
     "data": {
      "text/plain": [
       "(2016, 6)"
      ]
     },
     "execution_count": 54,
     "metadata": {},
     "output_type": "execute_result"
    }
   ],
   "source": [
    "dataset.shape"
   ]
  },
  {
   "cell_type": "code",
   "execution_count": 55,
   "id": "546a7d60",
   "metadata": {},
   "outputs": [],
   "source": [
    "# Removing the NaN values from the dataset\n",
    "dataset = dataset.dropna(axis=1)"
   ]
  },
  {
   "cell_type": "code",
   "execution_count": 56,
   "id": "af0351a8",
   "metadata": {},
   "outputs": [
    {
     "data": {
      "text/plain": [
       "(2016, 5)"
      ]
     },
     "execution_count": 56,
     "metadata": {},
     "output_type": "execute_result"
    }
   ],
   "source": [
    "dataset.shape"
   ]
  },
  {
   "cell_type": "code",
   "execution_count": 57,
   "id": "a7b6bd7b",
   "metadata": {},
   "outputs": [
    {
     "data": {
      "text/plain": [
       "beds         11\n",
       "baths        16\n",
       "size        879\n",
       "zip_code     28\n",
       "price       767\n",
       "dtype: int64"
      ]
     },
     "execution_count": 57,
     "metadata": {},
     "output_type": "execute_result"
    }
   ],
   "source": [
    "#Identifying the unique number of values in the dataset\n",
    "dataset.nunique()"
   ]
  },
  {
   "cell_type": "code",
   "execution_count": 58,
   "id": "5c0ad343",
   "metadata": {},
   "outputs": [
    {
     "name": "stdout",
     "output_type": "stream",
     "text": [
      "<class 'pandas.core.frame.DataFrame'>\n",
      "RangeIndex: 2016 entries, 0 to 2015\n",
      "Data columns (total 5 columns):\n",
      " #   Column    Non-Null Count  Dtype  \n",
      "---  ------    --------------  -----  \n",
      " 0   beds      2016 non-null   int64  \n",
      " 1   baths     2016 non-null   float64\n",
      " 2   size      2016 non-null   float64\n",
      " 3   zip_code  2016 non-null   int64  \n",
      " 4   price     2016 non-null   float64\n",
      "dtypes: float64(3), int64(2)\n",
      "memory usage: 78.9 KB\n"
     ]
    }
   ],
   "source": [
    "dataset.info()"
   ]
  },
  {
   "cell_type": "code",
   "execution_count": 59,
   "id": "eb3726d9",
   "metadata": {},
   "outputs": [
    {
     "data": {
      "text/html": [
       "<div>\n",
       "<style scoped>\n",
       "    .dataframe tbody tr th:only-of-type {\n",
       "        vertical-align: middle;\n",
       "    }\n",
       "\n",
       "    .dataframe tbody tr th {\n",
       "        vertical-align: top;\n",
       "    }\n",
       "\n",
       "    .dataframe thead th {\n",
       "        text-align: right;\n",
       "    }\n",
       "</style>\n",
       "<table border=\"1\" class=\"dataframe\">\n",
       "  <thead>\n",
       "    <tr style=\"text-align: right;\">\n",
       "      <th></th>\n",
       "      <th>beds</th>\n",
       "      <th>baths</th>\n",
       "      <th>size</th>\n",
       "      <th>zip_code</th>\n",
       "      <th>price</th>\n",
       "    </tr>\n",
       "  </thead>\n",
       "  <tbody>\n",
       "    <tr>\n",
       "      <th>count</th>\n",
       "      <td>2016.000000</td>\n",
       "      <td>2016.000000</td>\n",
       "      <td>2016.000000</td>\n",
       "      <td>2016.000000</td>\n",
       "      <td>2.016000e+03</td>\n",
       "    </tr>\n",
       "    <tr>\n",
       "      <th>mean</th>\n",
       "      <td>2.857639</td>\n",
       "      <td>2.159970</td>\n",
       "      <td>1735.740575</td>\n",
       "      <td>98123.638889</td>\n",
       "      <td>9.636252e+05</td>\n",
       "    </tr>\n",
       "    <tr>\n",
       "      <th>std</th>\n",
       "      <td>1.255092</td>\n",
       "      <td>1.002023</td>\n",
       "      <td>920.132591</td>\n",
       "      <td>22.650819</td>\n",
       "      <td>9.440954e+05</td>\n",
       "    </tr>\n",
       "    <tr>\n",
       "      <th>min</th>\n",
       "      <td>1.000000</td>\n",
       "      <td>0.500000</td>\n",
       "      <td>250.000000</td>\n",
       "      <td>98101.000000</td>\n",
       "      <td>1.590000e+05</td>\n",
       "    </tr>\n",
       "    <tr>\n",
       "      <th>25%</th>\n",
       "      <td>2.000000</td>\n",
       "      <td>1.500000</td>\n",
       "      <td>1068.750000</td>\n",
       "      <td>98108.000000</td>\n",
       "      <td>6.017500e+05</td>\n",
       "    </tr>\n",
       "    <tr>\n",
       "      <th>50%</th>\n",
       "      <td>3.000000</td>\n",
       "      <td>2.000000</td>\n",
       "      <td>1560.000000</td>\n",
       "      <td>98117.000000</td>\n",
       "      <td>8.000000e+05</td>\n",
       "    </tr>\n",
       "    <tr>\n",
       "      <th>75%</th>\n",
       "      <td>4.000000</td>\n",
       "      <td>2.500000</td>\n",
       "      <td>2222.500000</td>\n",
       "      <td>98126.000000</td>\n",
       "      <td>1.105250e+06</td>\n",
       "    </tr>\n",
       "    <tr>\n",
       "      <th>max</th>\n",
       "      <td>15.000000</td>\n",
       "      <td>9.000000</td>\n",
       "      <td>11010.000000</td>\n",
       "      <td>98199.000000</td>\n",
       "      <td>2.500000e+07</td>\n",
       "    </tr>\n",
       "  </tbody>\n",
       "</table>\n",
       "</div>"
      ],
      "text/plain": [
       "              beds        baths          size      zip_code         price\n",
       "count  2016.000000  2016.000000   2016.000000   2016.000000  2.016000e+03\n",
       "mean      2.857639     2.159970   1735.740575  98123.638889  9.636252e+05\n",
       "std       1.255092     1.002023    920.132591     22.650819  9.440954e+05\n",
       "min       1.000000     0.500000    250.000000  98101.000000  1.590000e+05\n",
       "25%       2.000000     1.500000   1068.750000  98108.000000  6.017500e+05\n",
       "50%       3.000000     2.000000   1560.000000  98117.000000  8.000000e+05\n",
       "75%       4.000000     2.500000   2222.500000  98126.000000  1.105250e+06\n",
       "max      15.000000     9.000000  11010.000000  98199.000000  2.500000e+07"
      ]
     },
     "execution_count": 59,
     "metadata": {},
     "output_type": "execute_result"
    }
   ],
   "source": [
    "dataset.describe()"
   ]
  },
  {
   "cell_type": "code",
   "execution_count": 60,
   "id": "a4231d67",
   "metadata": {},
   "outputs": [],
   "source": [
    "# Splitting the data into target variable and independent variable\n",
    "x = dataset.iloc[:, :-1].values\n",
    "y = dataset.iloc[:,-1].values\n",
    "#X = dataset.drop(['price'], axis = 1)\n",
    "#y = dataset['price']"
   ]
  },
  {
   "cell_type": "code",
   "execution_count": 61,
   "id": "082bc06e",
   "metadata": {},
   "outputs": [
    {
     "data": {
      "text/plain": [
       "array([[3.0000e+00, 2.5000e+00, 2.5900e+03, 9.8144e+04],\n",
       "       [4.0000e+00, 2.0000e+00, 2.2400e+03, 9.8106e+04],\n",
       "       [4.0000e+00, 3.0000e+00, 2.0400e+03, 9.8107e+04],\n",
       "       ...,\n",
       "       [4.0000e+00, 2.0000e+00, 2.1400e+03, 9.8199e+04],\n",
       "       [2.0000e+00, 2.0000e+00, 7.9500e+02, 9.8103e+04],\n",
       "       [3.0000e+00, 2.0000e+00, 1.7100e+03, 9.8133e+04]])"
      ]
     },
     "execution_count": 61,
     "metadata": {},
     "output_type": "execute_result"
    }
   ],
   "source": [
    "x"
   ]
  },
  {
   "cell_type": "code",
   "execution_count": 62,
   "id": "bed87fc4",
   "metadata": {},
   "outputs": [
    {
     "data": {
      "text/plain": [
       "array([ 795000.,  915000.,  950000., ..., 1150000.,  590000.,  659000.])"
      ]
     },
     "execution_count": 62,
     "metadata": {},
     "output_type": "execute_result"
    }
   ],
   "source": [
    "y"
   ]
  },
  {
   "cell_type": "code",
   "execution_count": 63,
   "id": "fa093252",
   "metadata": {},
   "outputs": [],
   "source": [
    "#splitting the arrays into train dataset and test dataset\n",
    "from sklearn.model_selection import train_test_split\n",
    "x_train,x_test,y_train,y_test = train_test_split(x, y, test_size=0.3, random_state=4)"
   ]
  },
  {
   "cell_type": "code",
   "execution_count": 64,
   "id": "3838c9a7",
   "metadata": {},
   "outputs": [
    {
     "name": "stdout",
     "output_type": "stream",
     "text": [
      "[[5.0000e+00 3.0000e+00 2.3100e+03 9.8106e+04]\n",
      " [5.0000e+00 3.0000e+00 2.8200e+03 9.8136e+04]\n",
      " [2.0000e+00 1.0000e+00 9.1000e+02 9.8117e+04]\n",
      " ...\n",
      " [3.0000e+00 4.5000e+00 3.7600e+03 9.8199e+04]\n",
      " [3.0000e+00 2.5000e+00 2.0800e+03 9.8117e+04]\n",
      " [3.0000e+00 3.0000e+00 1.8800e+03 9.8107e+04]]\n"
     ]
    }
   ],
   "source": [
    "print(x_train)"
   ]
  },
  {
   "cell_type": "code",
   "execution_count": 65,
   "id": "c4a9ba1f",
   "metadata": {},
   "outputs": [
    {
     "name": "stdout",
     "output_type": "stream",
     "text": [
      "[ 780000.  900000.  825000. ... 1570000.  977000.  999950.]\n"
     ]
    }
   ],
   "source": [
    "print(y_train)"
   ]
  },
  {
   "cell_type": "code",
   "execution_count": 66,
   "id": "da0f82d3",
   "metadata": {},
   "outputs": [
    {
     "name": "stdout",
     "output_type": "stream",
     "text": [
      "[[2.0000e+00 1.0000e+00 1.7600e+03 9.8116e+04]\n",
      " [6.0000e+00 4.0000e+00 3.2800e+03 9.8118e+04]\n",
      " [4.0000e+00 3.5000e+00 2.4780e+03 9.8115e+04]\n",
      " ...\n",
      " [4.0000e+00 3.0000e+00 2.6600e+03 9.8117e+04]\n",
      " [3.0000e+00 2.0000e+00 2.2700e+03 9.8122e+04]\n",
      " [4.0000e+00 2.0000e+00 2.6300e+03 9.8115e+04]]\n"
     ]
    }
   ],
   "source": [
    "print(x_test)"
   ]
  },
  {
   "cell_type": "code",
   "execution_count": 67,
   "id": "0f67d2be",
   "metadata": {},
   "outputs": [
    {
     "name": "stdout",
     "output_type": "stream",
     "text": [
      "[ 715000.  999950. 1580000.  525000. 3150000. 1395000.  605000.  700000.\n",
      "  799000.  515000.  877000.  222000. 1050000.  750000.  700000.  369950.\n",
      "  785000.  509950.  710000. 2250000. 2000000.  330000.  829000. 1025000.\n",
      "  539000.  975000. 1350000.  575000.  700000.  355000.  820000.  745000.\n",
      " 2100000.  871000.  396000.  583000.  820000.  675000.  787950. 1050000.\n",
      "  779000. 1165000.  699950. 1950000. 1051500. 1095000.  553500.  709600.\n",
      "  849000. 2320000.  765000.  999950.  740000.  919000. 1295000.  390000.\n",
      "  490000.  525000.  365000. 1130000.  464000.  820000.  620000.  730000.\n",
      " 1981000.  445000.  315000.  930000.  439900.  858000.  734999.  850000.\n",
      "  920000.  325100.  945000.  425000.  489000.  860000.  665000.  915000.\n",
      "  655000. 1484000.  888000.  625000. 1375000.  850000.  986500.  360000.\n",
      " 2050000.  500000.  825000. 1270000.  500000. 1625000. 1650000.  925000.\n",
      " 3630000.  455000.  399999.  990000.  778000.  685000. 1025000.  974999.\n",
      "  429900.  520000.  825000. 2695000. 1850000.  665000. 1266000.  975000.\n",
      "  860000. 1830000. 1525000.  699000.  575000.  575000. 1343000. 1069000.\n",
      "  355000.  825000.  523750.  800000.  430000.  679000.  605000. 1225000.\n",
      " 1495000. 1650000. 1050000.  799950.  325000. 1480000.  525000. 1325000.\n",
      " 1900000.  430000.  575000. 1037300. 1359000. 1550000.  769950.  675000.\n",
      "  517000. 6250000. 1810000. 1200000.  265000. 2300000. 1106000.  825000.\n",
      "  605000. 1210000. 1315000.  370000. 1070000.  613000.  630000. 1075000.\n",
      "  710000.  601000.  850000.  579000.  830000.  936000.  845000.  850000.\n",
      "  600000. 1270000.  308000.  565000.  612500. 3050000. 1100000. 1550000.\n",
      "  625000.  524950.  727000.  425000. 1850000. 2650000.  405000.  525000.\n",
      " 1300000.  500000. 1470000.  590000.  835000. 2100000.  705000. 1295000.\n",
      " 1732000. 1600000.  849000.  720000. 1599500.  425000. 1200000.  884950.\n",
      "  695000.  865000.  640000. 1025000.  520000. 1250000.  490000. 1685000.\n",
      "  640000.  780000. 1000000.  910000.  835000.  505000. 1111111. 1450000.\n",
      "  370000. 1300000.  626000.  675000.  510000.  999950. 1210000. 1025000.\n",
      "  925000.  580000. 1118000. 1050000. 1880000.  529000.  668000.  895000.\n",
      "  620000.  800000.  659000. 1350000. 1105000. 1349000.  395000.  659950.\n",
      "  650000.  345000.  649000.  549755. 1200000.  680000.  750000.  305000.\n",
      "  412000.  900000.  789500.  900000. 1500000.  380000.  440000.  722500.\n",
      " 1250000.  775000.  860000. 1220000. 1098000.  950000. 2100000. 1300000.\n",
      "  325000.  490000.  325000. 1640000.  599000.  499950. 2075000. 2895000.\n",
      "  875000.  385000.  568000.  769900. 1140000. 1190000.  875000. 1010000.\n",
      "  315000.  705000. 1650000.  337000.  250000.  354000. 1100000.  549250.\n",
      "  550000.  960000.  947000.  432000.  575000.  495000. 2225000.  703500.\n",
      "  315000.  645000.  615000. 2300000.  766000.  950000.  469000.  965000.\n",
      "  760000. 1250000.  435000.  959822.  710000.  770000. 1650000. 1180000.\n",
      "  800000.  449000.  875000.  650000.  670000.  734950.  499000.  850000.\n",
      "  590000. 1580000.  890000.  475000.  520000.  795000.  865000.  377500.\n",
      "  219700.  375000.  838000. 1127500.  599950.  575000. 1725000. 1184000.\n",
      " 1180000. 1425000.  925000. 1050000.  545000. 1500000.  940000.  640000.\n",
      "  920000. 1441000.  985000. 1395000.  468000.  948000.  725000.  390000.\n",
      "  795000.  385000.  520000. 1600000.  990000.  880000.  560000.  787500.\n",
      "  850000.  675000.  787950.  475000.  350000. 1490000.  545000. 1499000.\n",
      " 1125000.  937000. 1450000.  605000.  715000. 1700000. 2095000.  895000.\n",
      "  625000.  870000.  635000.  670000.  799000. 3320000.  925000.  920000.\n",
      "  750000. 1450000.  900000.  972500.  710000.  975000. 1058000.  445000.\n",
      "  545000.  850000.  780000. 1800000.  630000.  575000.  670000. 1630000.\n",
      "  648888.  590000.  789950.  891000.  950000. 2750000.  750000.  625000.\n",
      " 3122000.  689000. 1075000.  735000.  890000.  530000. 1299950.  900000.\n",
      " 1500000.  485000.  800000.  300000. 2350000.  452500.  942000.  899000.\n",
      "  299900.  360000.  815000.  700000.  760000.  411000.  335000. 1900000.\n",
      "  614500.  928000.  685000.  720000. 3200000. 1349000. 1150000.  875000.\n",
      "  775000.  613000.  751000.  835000. 1200000.  775000.  650000.  699000.\n",
      " 1035000.  480000. 1450000.  722500.  733500. 1012000. 1335000.  750000.\n",
      "  315000.  750000. 1370000. 2000000. 1500000.  812500. 1350000.  745000.\n",
      " 1850000. 1030000. 2500000. 1650000.  650000.  475000. 1150000.  720000.\n",
      " 1060000.  905000.  435000.  479950. 1000000.  730000.  695000.  390800.\n",
      "  280000.  685000.  595000.  880000.  974999.  560000. 2050000.  415000.\n",
      "  400000. 1089000.  485000. 1750000. 1135000. 2095000. 1825000.  895000.\n",
      "  530000.  530000.  875100. 1065000. 1300000.  525000. 1180000.  373000.\n",
      "  700000. 2800000. 1150000. 1520000. 2700000.  675000. 1175000.  950000.\n",
      "  950000.  325000.  719000.  488000.  456000. 3000000.  495000. 1766000.\n",
      " 1310000. 1511000.  933500. 1995000.  625000.  859990. 1070000.  729950.\n",
      "  886000.  645000.  290000.  899000.  475000.  865000. 1150000.  512000.\n",
      "  708000.  665000. 1125000. 3050000. 1065000.  950000.  699950. 1345000.\n",
      " 1175000.  500000.  675000.  740000.  875000.  888000.  335000.  700000.\n",
      " 1275000.  460000.  685000. 1460000.  560000.  865000.  550000. 1450000.\n",
      " 1406000. 1095000. 1270000.  915000.  322000.  539950.  309000.  475000.\n",
      "  900000.  422000. 1148000. 3340000.  852500.  430000.  205000.  605000.\n",
      "  874999. 1175000.  395000.  675000.  938000.  799000.  840000.  950000.\n",
      "  630000.  720000.  805000.  899000.  900000. 1181500.  700500. 2525000.\n",
      " 2325000. 1338600.  900000. 1170000.  527000.  800000.  422500.  400000.\n",
      "  330000.  975000. 1360000. 1550000. 1350000.]\n"
     ]
    }
   ],
   "source": [
    "print(y_test)"
   ]
  },
  {
   "cell_type": "code",
   "execution_count": 68,
   "id": "7fb87e5d",
   "metadata": {},
   "outputs": [
    {
     "data": {
      "text/html": [
       "<style>#sk-container-id-2 {color: black;}#sk-container-id-2 pre{padding: 0;}#sk-container-id-2 div.sk-toggleable {background-color: white;}#sk-container-id-2 label.sk-toggleable__label {cursor: pointer;display: block;width: 100%;margin-bottom: 0;padding: 0.3em;box-sizing: border-box;text-align: center;}#sk-container-id-2 label.sk-toggleable__label-arrow:before {content: \"▸\";float: left;margin-right: 0.25em;color: #696969;}#sk-container-id-2 label.sk-toggleable__label-arrow:hover:before {color: black;}#sk-container-id-2 div.sk-estimator:hover label.sk-toggleable__label-arrow:before {color: black;}#sk-container-id-2 div.sk-toggleable__content {max-height: 0;max-width: 0;overflow: hidden;text-align: left;background-color: #f0f8ff;}#sk-container-id-2 div.sk-toggleable__content pre {margin: 0.2em;color: black;border-radius: 0.25em;background-color: #f0f8ff;}#sk-container-id-2 input.sk-toggleable__control:checked~div.sk-toggleable__content {max-height: 200px;max-width: 100%;overflow: auto;}#sk-container-id-2 input.sk-toggleable__control:checked~label.sk-toggleable__label-arrow:before {content: \"▾\";}#sk-container-id-2 div.sk-estimator input.sk-toggleable__control:checked~label.sk-toggleable__label {background-color: #d4ebff;}#sk-container-id-2 div.sk-label input.sk-toggleable__control:checked~label.sk-toggleable__label {background-color: #d4ebff;}#sk-container-id-2 input.sk-hidden--visually {border: 0;clip: rect(1px 1px 1px 1px);clip: rect(1px, 1px, 1px, 1px);height: 1px;margin: -1px;overflow: hidden;padding: 0;position: absolute;width: 1px;}#sk-container-id-2 div.sk-estimator {font-family: monospace;background-color: #f0f8ff;border: 1px dotted black;border-radius: 0.25em;box-sizing: border-box;margin-bottom: 0.5em;}#sk-container-id-2 div.sk-estimator:hover {background-color: #d4ebff;}#sk-container-id-2 div.sk-parallel-item::after {content: \"\";width: 100%;border-bottom: 1px solid gray;flex-grow: 1;}#sk-container-id-2 div.sk-label:hover label.sk-toggleable__label {background-color: #d4ebff;}#sk-container-id-2 div.sk-serial::before {content: \"\";position: absolute;border-left: 1px solid gray;box-sizing: border-box;top: 0;bottom: 0;left: 50%;z-index: 0;}#sk-container-id-2 div.sk-serial {display: flex;flex-direction: column;align-items: center;background-color: white;padding-right: 0.2em;padding-left: 0.2em;position: relative;}#sk-container-id-2 div.sk-item {position: relative;z-index: 1;}#sk-container-id-2 div.sk-parallel {display: flex;align-items: stretch;justify-content: center;background-color: white;position: relative;}#sk-container-id-2 div.sk-item::before, #sk-container-id-2 div.sk-parallel-item::before {content: \"\";position: absolute;border-left: 1px solid gray;box-sizing: border-box;top: 0;bottom: 0;left: 50%;z-index: -1;}#sk-container-id-2 div.sk-parallel-item {display: flex;flex-direction: column;z-index: 1;position: relative;background-color: white;}#sk-container-id-2 div.sk-parallel-item:first-child::after {align-self: flex-end;width: 50%;}#sk-container-id-2 div.sk-parallel-item:last-child::after {align-self: flex-start;width: 50%;}#sk-container-id-2 div.sk-parallel-item:only-child::after {width: 0;}#sk-container-id-2 div.sk-dashed-wrapped {border: 1px dashed gray;margin: 0 0.4em 0.5em 0.4em;box-sizing: border-box;padding-bottom: 0.4em;background-color: white;}#sk-container-id-2 div.sk-label label {font-family: monospace;font-weight: bold;display: inline-block;line-height: 1.2em;}#sk-container-id-2 div.sk-label-container {text-align: center;}#sk-container-id-2 div.sk-container {/* jupyter's `normalize.less` sets `[hidden] { display: none; }` but bootstrap.min.css set `[hidden] { display: none !important; }` so we also need the `!important` here to be able to override the default hidden behavior on the sphinx rendered scikit-learn.org. See: https://github.com/scikit-learn/scikit-learn/issues/21755 */display: inline-block !important;position: relative;}#sk-container-id-2 div.sk-text-repr-fallback {display: none;}</style><div id=\"sk-container-id-2\" class=\"sk-top-container\"><div class=\"sk-text-repr-fallback\"><pre>LinearRegression()</pre><b>In a Jupyter environment, please rerun this cell to show the HTML representation or trust the notebook. <br />On GitHub, the HTML representation is unable to render, please try loading this page with nbviewer.org.</b></div><div class=\"sk-container\" hidden><div class=\"sk-item\"><div class=\"sk-estimator sk-toggleable\"><input class=\"sk-toggleable__control sk-hidden--visually\" id=\"sk-estimator-id-2\" type=\"checkbox\" checked><label for=\"sk-estimator-id-2\" class=\"sk-toggleable__label sk-toggleable__label-arrow\">LinearRegression</label><div class=\"sk-toggleable__content\"><pre>LinearRegression()</pre></div></div></div></div></div>"
      ],
      "text/plain": [
       "LinearRegression()"
      ]
     },
     "execution_count": 68,
     "metadata": {},
     "output_type": "execute_result"
    }
   ],
   "source": [
    "#training the linear regression model using the training sets\n",
    "from sklearn.linear_model import LinearRegression\n",
    "regressor = LinearRegression()\n",
    "regressor.fit(x_train,y_train)"
   ]
  },
  {
   "cell_type": "code",
   "execution_count": 69,
   "id": "86b6c74a",
   "metadata": {},
   "outputs": [
    {
     "data": {
      "text/plain": [
       "array([[2.0000e+00, 1.0000e+00, 1.7600e+03, 9.8116e+04],\n",
       "       [6.0000e+00, 4.0000e+00, 3.2800e+03, 9.8118e+04],\n",
       "       [4.0000e+00, 3.5000e+00, 2.4780e+03, 9.8115e+04],\n",
       "       ...,\n",
       "       [4.0000e+00, 3.0000e+00, 2.6600e+03, 9.8117e+04],\n",
       "       [3.0000e+00, 2.0000e+00, 2.2700e+03, 9.8122e+04],\n",
       "       [4.0000e+00, 2.0000e+00, 2.6300e+03, 9.8115e+04]])"
      ]
     },
     "execution_count": 69,
     "metadata": {},
     "output_type": "execute_result"
    }
   ],
   "source": [
    "x_test"
   ]
  },
  {
   "cell_type": "code",
   "execution_count": 70,
   "id": "6c5172d3",
   "metadata": {
    "scrolled": true
   },
   "outputs": [
    {
     "data": {
      "text/plain": [
       "array([1047284.47715151, 1565544.94590735, 1334162.54496366,\n",
       "       1124125.25244355, 1813850.51941919, 1462047.08500719,\n",
       "        717100.09759402,  665310.46632868,  980781.4081713 ,\n",
       "        751835.84285045, 1281595.9292286 ,  549110.08297211,\n",
       "        814145.25847876,  623357.66886902,  964462.56614774,\n",
       "        730367.92278588,  755945.39176613,  593534.27202404,\n",
       "        812818.30636132, 1777407.28823215, 1650401.85625422,\n",
       "        651995.09030712,  718581.90114534, 1314599.25339156,\n",
       "       1003942.72152019, 1034764.55808455,  833417.05977118,\n",
       "        453190.30983043,  866160.89272785,  582812.74859214,\n",
       "        899882.86997628,  878461.87952065, 1165811.17418194,\n",
       "       1590028.01237983,  484087.14051038,  862042.32423818,\n",
       "        674946.09833843,  719638.79817051,  537837.17475635,\n",
       "        868695.79271263,  803582.34509867, 1076626.93433976,\n",
       "       1073797.40793264, 2419507.97551501,  982377.45031571,\n",
       "        932552.67262834,  476214.94361413,  727164.39474779,\n",
       "        982550.06226695, 1711832.74306375,  637171.79383761,\n",
       "        889438.12170273,  768483.16209728,  838410.93573469,\n",
       "       1272908.43327546,  755042.55025953,  503327.64915216,\n",
       "        897435.29577273,  567937.88403273, 1006457.56273413,\n",
       "        603471.25177658, 1662441.89147645,  579736.32128674,\n",
       "        771139.90185869, 1742987.68853331,  645356.74025202,\n",
       "        278470.8200348 , 1213050.21774787,  574866.00410652,\n",
       "       1177841.9731617 ,  821618.62251717,  964009.06977677,\n",
       "        801902.73579085,  499675.22250462,  994007.11818421,\n",
       "        672870.57690144,  586753.48614842, 1196070.83735448,\n",
       "        731856.92296851,  938632.84456635,  791852.93583554,\n",
       "       1661819.93438965,  826785.06845802,  751068.1365971 ,\n",
       "       1524965.29496646, 1201327.74647373, 1110033.47119915,\n",
       "        549500.47550285, 1886066.07547474,  476214.94361413,\n",
       "        871374.26827759,  682674.9782967 ,  881516.61299628,\n",
       "       1122716.23550099,  681223.88814908, 1098678.23826158,\n",
       "       3041154.78257275,  666020.76303488,  572338.04211068,\n",
       "       1083665.53438884,  655692.76953089,  755206.67990983,\n",
       "       1092893.89446801, 1015595.41766113,  673284.12362623,\n",
       "        910631.96941477,  942415.55131763, 2014471.46284741,\n",
       "       2434591.38441151,  995187.53201884, 1104560.45853323,\n",
       "        865815.79474711,  848683.77722561, 1255323.97519511,\n",
       "       1342675.83588058,  858704.54080993,  878096.8067168 ,\n",
       "        944352.97479892, 1539872.85057861,  733941.42200559,\n",
       "        617314.45508999,  989596.22152567,  777428.47222388,\n",
       "       1147778.03416055,  698591.98404038,  643883.55172235,\n",
       "        693354.42852354, 1463690.76192909, 1432427.89463449,\n",
       "       1447222.81792772,  968207.66348034,  833825.79206604,\n",
       "        510395.28557217, 1091535.64969999,  585340.71058798,\n",
       "        816926.39491272, 1121273.58568043,  488496.57680458,\n",
       "       1019736.12650663, 1050144.54226786, 1393736.07547969,\n",
       "       1387566.5581376 ,  794139.29986322,  716965.17900932,\n",
       "        686116.3037113 , 1763127.73464346, 1469854.05450433,\n",
       "       1177273.08650297,  492645.85869795, 2058455.27631027,\n",
       "        868260.18957961,  928163.61570942,  969028.44016182,\n",
       "       1737349.56921715, 1351205.51769722,  580886.02171767,\n",
       "        981161.06212139,  812685.72800404,  782520.41254926,\n",
       "       1071127.80603158,  610831.47500783,  564411.31442201,\n",
       "        790648.96325457,  660694.16273016,  706215.28240114,\n",
       "       1003252.35766321,  897367.94481462, 1030555.56839049,\n",
       "        883850.61180127, 1102356.9984743 ,  527478.20795196,\n",
       "        909104.95526123,  619999.82666999, 2518596.88862091,\n",
       "       1021550.24984694,  970897.24020439,  886125.39935905,\n",
       "        348422.36908704,  771252.7220614 ,  490428.52266127,\n",
       "       1091399.67530322, 2423479.91497493,  568662.67793745,\n",
       "        897435.29577273, 1148387.28381407,  771365.32559562,\n",
       "       1293352.25130367,  841532.57364231,  893209.38470495,\n",
       "       1656659.67124182,  659568.23771405,  890959.65823174,\n",
       "       1578614.70670044, 1582809.45783836,  658382.56292337,\n",
       "        867266.8429209 , 1714392.29958075,  620841.0247007 ,\n",
       "        969050.53854382,  759613.77597666, 1046744.66883761,\n",
       "       1034005.91337907,  684550.97497052,  916205.6872862 ,\n",
       "       1187669.52875108, 1066298.89886183,  657580.08403218,\n",
       "       1398137.65194803,  942322.70593804, 1261906.95531428,\n",
       "        152171.62552893,  795250.72768074,  969321.8661167 ,\n",
       "        937116.5270195 , 1182730.14160603,  929580.19186163,\n",
       "        636142.2561506 , 1455141.06331545,  728571.73465747,\n",
       "        552864.5924961 ,  596962.77727288, 1124317.75527006,\n",
       "       1261864.84013534, 1285774.50613528,  994780.60267842,\n",
       "        381640.37840629,  956187.60308117, 1803096.30493462,\n",
       "       1916209.78104746,  656361.35561037,  777974.63927984,\n",
       "        959870.52646405,  554183.7255072 , 1296526.78494477,\n",
       "        907613.91546744,  899316.77007109, 1176733.94138366,\n",
       "        806338.86822855,  433248.78269869,  561941.06258953,\n",
       "        698524.6750561 ,  596176.51458693,  893705.44278097,\n",
       "        560096.40054011, 1113861.38855273,  782520.41254926,\n",
       "        742861.49635291,  615269.68903059,  604562.08355027,\n",
       "       1028922.45535457,  720557.6392138 ,  625618.75514364,\n",
       "       1285931.2105509 ,  539045.78581834,  514097.646505  ,\n",
       "       2101168.88400829, 1567776.77914262,  845414.44254142,\n",
       "        918255.67232782, 1450849.9248485 , 1055336.4406563 ,\n",
       "        986658.15081829, 1787475.42795157,  977135.08036894,\n",
       "        662462.81682587,  556172.50040984,  524203.97489005,\n",
       "       1284861.76519156,  643960.18089676,  582632.57743132,\n",
       "       1855198.28116572, 2049770.87578034,  634429.80988008,\n",
       "        557013.03524595,  649842.14252597,  761747.54485005,\n",
       "       1281078.21929669,  987073.73715436,  674755.18859696,\n",
       "        957384.01645255,  593154.61807394,  775654.34050363,\n",
       "       1341112.10022485,  529495.4399786 ,  429090.22258902,\n",
       "        579563.75130945,  611518.61877424,  663084.06874418,\n",
       "        545886.58011085,  870947.64274472,  694347.81715614,\n",
       "        522135.43341589,  577157.88773257,  599944.68216586,\n",
       "       3900317.35372633, 1306140.10190392,  547086.79407394,\n",
       "        637499.04055429,  797064.59237862, 1601888.13508356,\n",
       "       1321204.37386662, 1062700.20583695,  661738.64414191,\n",
       "       1419578.65920067,  858491.97921264, 1521282.3715837 ,\n",
       "        558656.67019397,  824142.82589513,  594482.40808052,\n",
       "        917076.93552595, 1403285.75812477, 1117927.36192518,\n",
       "       1440190.49141854,  879655.15549487,  838327.41054529,\n",
       "       1254098.09211588,  857952.12892479,  574215.71581721,\n",
       "        595555.26266855,  920171.70259553,  745985.25781947,\n",
       "       1907932.65244818,  872286.12935817,  728185.10074466,\n",
       "       1225614.32164401,  938885.18111527, 1044960.05717903,\n",
       "        606286.06431681,  829993.36895221,  538610.14071149,\n",
       "       1111386.49698496,  875055.73129618,  986100.3653186 ,\n",
       "        758422.62356138, 1724384.64801496,  937128.94263297,\n",
       "       1308168.82645279,  894722.60682851,  650408.28440511,\n",
       "       1393350.90193123,  535034.55990678, 1283237.48259157,\n",
       "       1119398.42689586,  840581.34216255, 1159577.17658305,\n",
       "       1443183.13489217, 1568802.74609548, 1159037.28432131,\n",
       "        546972.51350701, 1429517.31598604, 1038881.00301534,\n",
       "        375725.57981431, 1347440.52948934,  618198.78213781,\n",
       "        953177.10834348, 1552726.20720875,  934194.37190115,\n",
       "        789663.21777934,  556172.50040984,  727698.36285877,\n",
       "        634543.25255787,  608699.12452489,  537837.17475635,\n",
       "        545352.65397376,  558954.25931895, 1160203.24293131,\n",
       "        494492.81900084, 1627662.35400826, 1008671.09817904,\n",
       "       1188899.65894818, 1216100.7460795 ,  719829.70791197,\n",
       "        713953.1819334 , 1627337.18887669, 1344448.46526259,\n",
       "        901265.59532762,  919680.86350167, 1081564.15595198,\n",
       "       1061012.24820328,  646910.75116527,  914887.17549586,\n",
       "       2696687.79597712, 1105756.87190455, 1018911.14468116,\n",
       "       1134196.48758614,  933042.41519058,  719038.18426991,\n",
       "       1187539.07395273,  536961.28678125,  602149.24001074,\n",
       "        893970.19494337,  879655.15549487,  432675.9207536 ,\n",
       "        798568.53628588,  795078.1577034 , 1234400.71984833,\n",
       "        536443.57684928,  685818.09336555,  923940.8840127 ,\n",
       "       1559532.27083737,  673271.70801282,  759973.45510364,\n",
       "        749887.68078864,  825679.16023892,  997916.34642136,\n",
       "       1171807.4163782 , 1116628.82495791,  773137.29178303,\n",
       "       3350490.72106874,  978966.83830488, 1211924.29273176,\n",
       "        508742.673024  , 1190506.39769942,  830335.41348356,\n",
       "       1032832.61222792, 1116305.82535917, 1633555.05421817,\n",
       "        603471.25177658,  872039.05376536,  663136.92250377,\n",
       "       1813054.93654299,  546843.73574138,  597495.02637726,\n",
       "        955254.26483941,  594636.42162526,  557427.20319152,\n",
       "        759343.1416375 , 1140648.97093314,  868956.74428314,\n",
       "        262088.91614491,  590892.02946115, 1389665.81301552,\n",
       "        667449.71282667,  676340.53413469, 1133882.68225604,\n",
       "        884193.36955464, 2083157.39584279, 1119183.74173963,\n",
       "       1834608.5473299 ,  703012.15891528,  540622.11178201,\n",
       "       1122493.19396538,  984843.98550415,  566588.91748101,\n",
       "       1278826.36926454,  522041.16964579,  806293.61565244,\n",
       "        842558.75726378,  996685.5517754 ,  677454.04353732,\n",
       "       1627405.55367303,  707756.83572704,  699676.44513726,\n",
       "       1207267.99751323, 1146126.04283315,  853909.9729411 ,\n",
       "        474575.06728399, 1515482.258111  , 1241019.67432725,\n",
       "       2256108.85401785, 1071937.80215859, 1047972.67547578,\n",
       "       1099952.91586632,  925897.26847875, 1332706.68235999,\n",
       "        940317.93149871, 1908102.04430878, 1794760.84495109,\n",
       "        945275.61643398,  606540.07789844, 1339877.86076629,\n",
       "       1138094.0961253 , 1226346.67475843,  925693.94312388,\n",
       "        694929.03548062,  692733.17660517, 1099752.98655087,\n",
       "       1013911.83306688,  699786.93704742,  493174.30721051,\n",
       "        545272.88740224,  531006.53854322,  750251.16050738,\n",
       "        895483.37509298,  872059.0705623 ,  580931.27429372,\n",
       "       1864813.89637852,  627401.90643787,  483672.97256476,\n",
       "       1602899.41695422,  687038.54079407,  959036.13370144,\n",
       "       1204750.99076653, 1532216.49858671, 1387077.30532968,\n",
       "       1030524.55437052,  407777.6305235 ,  681360.26709813,\n",
       "        968360.21666074, 1214844.32429117, 1237026.08301139,\n",
       "        583789.21585107, 1802339.72987932,  305661.83178008,\n",
       "        689846.19867688, 1985514.13723379, 1349880.06791806,\n",
       "       1196729.74066544, 1757027.02057034,  823692.46692127,\n",
       "        844783.03128934,  855589.79891741, 1129471.78559744,\n",
       "        593154.61807394,  717100.09759402,  782024.80099928,\n",
       "        933388.17636597, 2150521.23312455,  683317.7073763 ,\n",
       "       1075328.43934637, 1145568.29930729, 1403289.5587166 ,\n",
       "        864121.60429305, 1746455.92675984,  689286.37356603,\n",
       "        809242.06236202,  914562.01036429,  758339.09837192,\n",
       "        841421.43047243,  758279.34859729,  529647.99315894,\n",
       "        797675.14769024,  753625.1769377 , 1192257.41719943,\n",
       "        859583.39023322,  772692.277713  ,  408062.80403507,\n",
       "       1094550.39155567, 1280967.73932141, 2233887.0617038 ,\n",
       "        880085.53964555, 1206507.22924876,  849334.10748869,\n",
       "       1175561.08675867, 1431923.84275752,  574470.39259362,\n",
       "       1030393.47835141,  818447.93144172,  888540.71584678,\n",
       "       1101586.73532504,  592097.72104877, 1191562.84819847,\n",
       "       1038298.72887874,  524120.44970059, 1133882.68225604,\n",
       "       1141853.82463151,  802532.42803621, 1323524.58869505,\n",
       "        673271.70801282, 1516535.61318678, 1316182.87992257,\n",
       "       1460038.2933076 ,  971350.77854925,  916278.25722653,\n",
       "        615269.68903059,  586137.04866004,  491657.98966372,\n",
       "       1221762.32825941,  940243.42588323,  798550.19652176,\n",
       "       1450982.50320572, 1738331.39331478,  874801.05451977,\n",
       "        585011.7448647 ,  383347.52174675,  772511.22543472,\n",
       "       1155872.11284429, 1324437.95211375,  570880.01397413,\n",
       "       1299141.40952718, 1305628.44884348,  862848.34507877,\n",
       "       1024023.0178557 , 1106577.60661215, 1021207.19147736,\n",
       "        743774.90174556,  865731.606363  ,  784011.45234299,\n",
       "       1007583.48775023,  893596.68181241, 1036430.3753624 ,\n",
       "       1613681.97583044, 1562452.30239677, 1336058.55843443,\n",
       "       1099434.80138212,  856605.28593206,  816368.65138686,\n",
       "       1353437.35093248,  547406.69824946,  644092.7592541 ,\n",
       "        558128.22168142,  863148.27443117, 1402163.63370049,\n",
       "       1238802.33829051, 1349188.32764447])"
      ]
     },
     "execution_count": 70,
     "metadata": {},
     "output_type": "execute_result"
    }
   ],
   "source": [
    "#predicting the test results\n",
    "y_pred = regressor.predict(x_test)\n",
    "y_pred"
   ]
  },
  {
   "cell_type": "code",
   "execution_count": 71,
   "id": "8f240397",
   "metadata": {
    "scrolled": true
   },
   "outputs": [
    {
     "data": {
      "text/plain": [
       "array([ 715000.,  999950., 1580000.,  525000., 3150000., 1395000.,\n",
       "        605000.,  700000.,  799000.,  515000.,  877000.,  222000.,\n",
       "       1050000.,  750000.,  700000.,  369950.,  785000.,  509950.,\n",
       "        710000., 2250000., 2000000.,  330000.,  829000., 1025000.,\n",
       "        539000.,  975000., 1350000.,  575000.,  700000.,  355000.,\n",
       "        820000.,  745000., 2100000.,  871000.,  396000.,  583000.,\n",
       "        820000.,  675000.,  787950., 1050000.,  779000., 1165000.,\n",
       "        699950., 1950000., 1051500., 1095000.,  553500.,  709600.,\n",
       "        849000., 2320000.,  765000.,  999950.,  740000.,  919000.,\n",
       "       1295000.,  390000.,  490000.,  525000.,  365000., 1130000.,\n",
       "        464000.,  820000.,  620000.,  730000., 1981000.,  445000.,\n",
       "        315000.,  930000.,  439900.,  858000.,  734999.,  850000.,\n",
       "        920000.,  325100.,  945000.,  425000.,  489000.,  860000.,\n",
       "        665000.,  915000.,  655000., 1484000.,  888000.,  625000.,\n",
       "       1375000.,  850000.,  986500.,  360000., 2050000.,  500000.,\n",
       "        825000., 1270000.,  500000., 1625000., 1650000.,  925000.,\n",
       "       3630000.,  455000.,  399999.,  990000.,  778000.,  685000.,\n",
       "       1025000.,  974999.,  429900.,  520000.,  825000., 2695000.,\n",
       "       1850000.,  665000., 1266000.,  975000.,  860000., 1830000.,\n",
       "       1525000.,  699000.,  575000.,  575000., 1343000., 1069000.,\n",
       "        355000.,  825000.,  523750.,  800000.,  430000.,  679000.,\n",
       "        605000., 1225000., 1495000., 1650000., 1050000.,  799950.,\n",
       "        325000., 1480000.,  525000., 1325000., 1900000.,  430000.,\n",
       "        575000., 1037300., 1359000., 1550000.,  769950.,  675000.,\n",
       "        517000., 6250000., 1810000., 1200000.,  265000., 2300000.,\n",
       "       1106000.,  825000.,  605000., 1210000., 1315000.,  370000.,\n",
       "       1070000.,  613000.,  630000., 1075000.,  710000.,  601000.,\n",
       "        850000.,  579000.,  830000.,  936000.,  845000.,  850000.,\n",
       "        600000., 1270000.,  308000.,  565000.,  612500., 3050000.,\n",
       "       1100000., 1550000.,  625000.,  524950.,  727000.,  425000.,\n",
       "       1850000., 2650000.,  405000.,  525000., 1300000.,  500000.,\n",
       "       1470000.,  590000.,  835000., 2100000.,  705000., 1295000.,\n",
       "       1732000., 1600000.,  849000.,  720000., 1599500.,  425000.,\n",
       "       1200000.,  884950.,  695000.,  865000.,  640000., 1025000.,\n",
       "        520000., 1250000.,  490000., 1685000.,  640000.,  780000.,\n",
       "       1000000.,  910000.,  835000.,  505000., 1111111., 1450000.,\n",
       "        370000., 1300000.,  626000.,  675000.,  510000.,  999950.,\n",
       "       1210000., 1025000.,  925000.,  580000., 1118000., 1050000.,\n",
       "       1880000.,  529000.,  668000.,  895000.,  620000.,  800000.,\n",
       "        659000., 1350000., 1105000., 1349000.,  395000.,  659950.,\n",
       "        650000.,  345000.,  649000.,  549755., 1200000.,  680000.,\n",
       "        750000.,  305000.,  412000.,  900000.,  789500.,  900000.,\n",
       "       1500000.,  380000.,  440000.,  722500., 1250000.,  775000.,\n",
       "        860000., 1220000., 1098000.,  950000., 2100000., 1300000.,\n",
       "        325000.,  490000.,  325000., 1640000.,  599000.,  499950.,\n",
       "       2075000., 2895000.,  875000.,  385000.,  568000.,  769900.,\n",
       "       1140000., 1190000.,  875000., 1010000.,  315000.,  705000.,\n",
       "       1650000.,  337000.,  250000.,  354000., 1100000.,  549250.,\n",
       "        550000.,  960000.,  947000.,  432000.,  575000.,  495000.,\n",
       "       2225000.,  703500.,  315000.,  645000.,  615000., 2300000.,\n",
       "        766000.,  950000.,  469000.,  965000.,  760000., 1250000.,\n",
       "        435000.,  959822.,  710000.,  770000., 1650000., 1180000.,\n",
       "        800000.,  449000.,  875000.,  650000.,  670000.,  734950.,\n",
       "        499000.,  850000.,  590000., 1580000.,  890000.,  475000.,\n",
       "        520000.,  795000.,  865000.,  377500.,  219700.,  375000.,\n",
       "        838000., 1127500.,  599950.,  575000., 1725000., 1184000.,\n",
       "       1180000., 1425000.,  925000., 1050000.,  545000., 1500000.,\n",
       "        940000.,  640000.,  920000., 1441000.,  985000., 1395000.,\n",
       "        468000.,  948000.,  725000.,  390000.,  795000.,  385000.,\n",
       "        520000., 1600000.,  990000.,  880000.,  560000.,  787500.,\n",
       "        850000.,  675000.,  787950.,  475000.,  350000., 1490000.,\n",
       "        545000., 1499000., 1125000.,  937000., 1450000.,  605000.,\n",
       "        715000., 1700000., 2095000.,  895000.,  625000.,  870000.,\n",
       "        635000.,  670000.,  799000., 3320000.,  925000.,  920000.,\n",
       "        750000., 1450000.,  900000.,  972500.,  710000.,  975000.,\n",
       "       1058000.,  445000.,  545000.,  850000.,  780000., 1800000.,\n",
       "        630000.,  575000.,  670000., 1630000.,  648888.,  590000.,\n",
       "        789950.,  891000.,  950000., 2750000.,  750000.,  625000.,\n",
       "       3122000.,  689000., 1075000.,  735000.,  890000.,  530000.,\n",
       "       1299950.,  900000., 1500000.,  485000.,  800000.,  300000.,\n",
       "       2350000.,  452500.,  942000.,  899000.,  299900.,  360000.,\n",
       "        815000.,  700000.,  760000.,  411000.,  335000., 1900000.,\n",
       "        614500.,  928000.,  685000.,  720000., 3200000., 1349000.,\n",
       "       1150000.,  875000.,  775000.,  613000.,  751000.,  835000.,\n",
       "       1200000.,  775000.,  650000.,  699000., 1035000.,  480000.,\n",
       "       1450000.,  722500.,  733500., 1012000., 1335000.,  750000.,\n",
       "        315000.,  750000., 1370000., 2000000., 1500000.,  812500.,\n",
       "       1350000.,  745000., 1850000., 1030000., 2500000., 1650000.,\n",
       "        650000.,  475000., 1150000.,  720000., 1060000.,  905000.,\n",
       "        435000.,  479950., 1000000.,  730000.,  695000.,  390800.,\n",
       "        280000.,  685000.,  595000.,  880000.,  974999.,  560000.,\n",
       "       2050000.,  415000.,  400000., 1089000.,  485000., 1750000.,\n",
       "       1135000., 2095000., 1825000.,  895000.,  530000.,  530000.,\n",
       "        875100., 1065000., 1300000.,  525000., 1180000.,  373000.,\n",
       "        700000., 2800000., 1150000., 1520000., 2700000.,  675000.,\n",
       "       1175000.,  950000.,  950000.,  325000.,  719000.,  488000.,\n",
       "        456000., 3000000.,  495000., 1766000., 1310000., 1511000.,\n",
       "        933500., 1995000.,  625000.,  859990., 1070000.,  729950.,\n",
       "        886000.,  645000.,  290000.,  899000.,  475000.,  865000.,\n",
       "       1150000.,  512000.,  708000.,  665000., 1125000., 3050000.,\n",
       "       1065000.,  950000.,  699950., 1345000., 1175000.,  500000.,\n",
       "        675000.,  740000.,  875000.,  888000.,  335000.,  700000.,\n",
       "       1275000.,  460000.,  685000., 1460000.,  560000.,  865000.,\n",
       "        550000., 1450000., 1406000., 1095000., 1270000.,  915000.,\n",
       "        322000.,  539950.,  309000.,  475000.,  900000.,  422000.,\n",
       "       1148000., 3340000.,  852500.,  430000.,  205000.,  605000.,\n",
       "        874999., 1175000.,  395000.,  675000.,  938000.,  799000.,\n",
       "        840000.,  950000.,  630000.,  720000.,  805000.,  899000.,\n",
       "        900000., 1181500.,  700500., 2525000., 2325000., 1338600.,\n",
       "        900000., 1170000.,  527000.,  800000.,  422500.,  400000.,\n",
       "        330000.,  975000., 1360000., 1550000., 1350000.])"
      ]
     },
     "execution_count": 71,
     "metadata": {},
     "output_type": "execute_result"
    }
   ],
   "source": [
    "y_test"
   ]
  },
  {
   "cell_type": "code",
   "execution_count": 72,
   "id": "0fe2ec2d",
   "metadata": {},
   "outputs": [
    {
     "name": "stdout",
     "output_type": "stream",
     "text": [
      "<class 'numpy.ndarray'>\n",
      "942000.0\n",
      "700000.0\n",
      "665310.4663286805\n"
     ]
    }
   ],
   "source": [
    "print(type(y_pred))\n",
    "print(y_train[7])\n",
    "print(y_test[7])\n",
    "print(y_pred[7])"
   ]
  },
  {
   "cell_type": "code",
   "execution_count": 73,
   "id": "c5e3ae67",
   "metadata": {},
   "outputs": [
    {
     "name": "stdout",
     "output_type": "stream",
     "text": [
      "<class 'numpy.ndarray'>\n",
      "610000.0\n",
      "1460000.0\n",
      "1141853.8246315122\n"
     ]
    }
   ],
   "source": [
    "print(type(y_pred))\n",
    "print(y_train[555])\n",
    "print(y_test[555])\n",
    "print(y_pred[555])"
   ]
  },
  {
   "cell_type": "code",
   "execution_count": 74,
   "id": "b1157c6c",
   "metadata": {},
   "outputs": [
    {
     "name": "stdout",
     "output_type": "stream",
     "text": [
      "<class 'numpy.ndarray'>\n",
      "[780000. 900000. 825000. 750000. 315000.]\n",
      "[ 715000.  999950. 1580000.  525000. 3150000.]\n",
      "[1047284.47715151 1565544.94590735 1334162.54496366 1124125.25244355\n",
      " 1813850.51941919]\n"
     ]
    }
   ],
   "source": [
    "print(type(y_pred))\n",
    "print(y_train[:5])\n",
    "print(y_test[:5])\n",
    "print(y_pred[:5])"
   ]
  },
  {
   "cell_type": "code",
   "execution_count": 75,
   "id": "f75bdb99",
   "metadata": {},
   "outputs": [],
   "source": [
    "import matplotlib.pyplot as plt"
   ]
  },
  {
   "cell_type": "code",
   "execution_count": 76,
   "id": "ce020293",
   "metadata": {},
   "outputs": [
    {
     "name": "stdout",
     "output_type": "stream",
     "text": [
      "1411\n",
      "(1411, 4)\n"
     ]
    }
   ],
   "source": [
    "print(len(x_train))\n",
    "print(x_train.shape)"
   ]
  },
  {
   "cell_type": "code",
   "execution_count": 77,
   "id": "655535ec",
   "metadata": {},
   "outputs": [
    {
     "name": "stdout",
     "output_type": "stream",
     "text": [
      "1411\n",
      "(1411,)\n"
     ]
    }
   ],
   "source": [
    "print(len(y_train))\n",
    "print(y_train.shape)"
   ]
  },
  {
   "cell_type": "code",
   "execution_count": 78,
   "id": "53782536",
   "metadata": {},
   "outputs": [
    {
     "data": {
      "image/png": "[encoded data removed]",
      "text/plain": [
       "<Figure size 640x480 with 1 Axes>"
      ]
     },
     "metadata": {},
     "output_type": "display_data"
    }
   ],
   "source": [
    "#visualizing the training set results\n",
    "for i in range(x.shape[1]):  \n",
    "    plt.scatter(x_train[:, i], y_train, label=f'Column {i}')\n",
    "\n",
    "plt.title('House Price Prediction-training set')\n",
    "plt.xlabel('price')\n",
    "plt.ylabel('features')\n",
    "plt.legend()\n",
    "plt.show()"
   ]
  },
  {
   "cell_type": "code",
   "execution_count": 79,
   "id": "727b2249",
   "metadata": {},
   "outputs": [
    {
     "data": {
      "image/png": "[encoded data removed]",
      "text/plain": [
       "<Figure size 640x480 with 1 Axes>"
      ]
     },
     "metadata": {},
     "output_type": "display_data"
    }
   ],
   "source": [
    "#visualizing the test set results\n",
    "for i in range(x.shape[1]): \n",
    "    plt.scatter(x_test[:, i], y_test,label=f'Column {i} ')\n",
    "\n",
    "#plt.plot(x_test[:len(y_pred)], y_pred, marker='x')\n",
    "\n",
    "plt.title('House Price Prediction-test set')\n",
    "plt.xlabel('price')\n",
    "plt.ylabel('features')\n",
    "plt.legend()\n",
    "plt.show()"
   ]
  },
  {
   "cell_type": "code",
   "execution_count": 80,
   "id": "4785aefb",
   "metadata": {},
   "outputs": [
    {
     "data": {
      "image/png": "[encoded data removed]",
      "text/plain": [
       "<Figure size 640x480 with 1 Axes>"
      ]
     },
     "metadata": {},
     "output_type": "display_data"
    }
   ],
   "source": [
    "#visualizing the Predicted results\n",
    "for i in range(x.shape[1]): \n",
    "    plt.scatter(x_test[:, i], y_pred,label=f'Column {i} ')\n",
    "    \n",
    "plt.title('House Price Prediction-Prediced')\n",
    "plt.xlabel('predicted price')\n",
    "plt.ylabel('features')\n",
    "plt.legend()\n",
    "plt.show()"
   ]
  },
  {
   "cell_type": "code",
   "execution_count": 81,
   "id": "ff733121",
   "metadata": {},
   "outputs": [],
   "source": [
    "#The values in the above plots are distributed equally around zero. Hence,Linear Assumption is satisfied."
   ]
  },
  {
   "cell_type": "code",
   "execution_count": 82,
   "id": "3688dcb9",
   "metadata": {},
   "outputs": [
    {
     "name": "stdout",
     "output_type": "stream",
     "text": [
      "[-102291.91067016   43532.26082056     528.44851258   -3205.20507092]\n"
     ]
    }
   ],
   "source": [
    "#obtaining the linear regression equation with the values of coefficients\n",
    "print(regressor.coef_)"
   ]
  },
  {
   "cell_type": "code",
   "execution_count": 83,
   "id": "5b973dd5",
   "metadata": {},
   "outputs": [
    {
     "name": "stdout",
     "output_type": "stream",
     "text": [
      "314760167.39424556\n"
     ]
    }
   ],
   "source": [
    "print(regressor.intercept_)"
   ]
  },
  {
   "cell_type": "code",
   "execution_count": null,
   "id": "4218dc3f",
   "metadata": {},
   "outputs": [],
   "source": []
  },
  {
   "cell_type": "code",
   "execution_count": null,
   "id": "265d987f",
   "metadata": {},
   "outputs": [],
   "source": []
  }
 ],
 "metadata": {
  "kernelspec": {
   "display_name": "Python 3 (ipykernel)",
   "language": "python",
   "name": "python3"
  },
  "language_info": {
   "codemirror_mode": {
    "name": "ipython",
    "version": 3
   },
   "file_extension": ".py",
   "mimetype": "text/x-python",
   "name": "python",
   "nbconvert_exporter": "python",
   "pygments_lexer": "ipython3",
   "version": "3.11.5"
  }
 },
 "nbformat": 4,
 "nbformat_minor": 5
}
